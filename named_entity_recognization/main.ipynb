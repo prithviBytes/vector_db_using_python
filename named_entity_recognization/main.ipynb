{
 "cells": [
  {
   "cell_type": "markdown",
   "metadata": {},
   "source": [
    "### Defining a NER (Named Entity Recognition) model for token classification using BERT"
   ]
  },
  {
   "cell_type": "code",
   "execution_count": 1,
   "metadata": {},
   "outputs": [
    {
     "name": "stderr",
     "output_type": "stream",
     "text": [
      "c:\\Users\\Prithviraj_K_suvarna\\Anaconda3\\envs\\langchain\\Lib\\site-packages\\tqdm\\auto.py:21: TqdmWarning: IProgress not found. Please update jupyter and ipywidgets. See https://ipywidgets.readthedocs.io/en/stable/user_install.html\n",
      "  from .autonotebook import tqdm as notebook_tqdm\n"
     ]
    }
   ],
   "source": [
    "from transformers import AutoTokenizer, AutoModelForTokenClassification\n",
    "from transformers import pipeline\n",
    "import torch"
   ]
  },
  {
   "cell_type": "code",
   "execution_count": 2,
   "metadata": {},
   "outputs": [],
   "source": [
    "NER_MODEL_ID = \"dslim/bert-base-NER\""
   ]
  },
  {
   "cell_type": "code",
   "execution_count": 3,
   "metadata": {},
   "outputs": [
    {
     "name": "stderr",
     "output_type": "stream",
     "text": [
      "Some weights of the model checkpoint at dslim/bert-base-NER were not used when initializing BertForTokenClassification: ['bert.pooler.dense.bias', 'bert.pooler.dense.weight']\n",
      "- This IS expected if you are initializing BertForTokenClassification from the checkpoint of a model trained on another task or with another architecture (e.g. initializing a BertForSequenceClassification model from a BertForPreTraining model).\n",
      "- This IS NOT expected if you are initializing BertForTokenClassification from the checkpoint of a model that you expect to be exactly identical (initializing a BertForSequenceClassification model from a BertForSequenceClassification model).\n"
     ]
    }
   ],
   "source": [
    "tokenizer = AutoTokenizer.from_pretrained(NER_MODEL_ID)\n",
    "model = AutoModelForTokenClassification.from_pretrained(NER_MODEL_ID)\n",
    "\n",
    "nlp = pipeline(\n",
    "    task=\"ner\", \n",
    "    model=model, \n",
    "    tokenizer=tokenizer,\n",
    "    device='cpu',\n",
    "    aggregation_strategy='max'\n",
    ")"
   ]
  },
  {
   "cell_type": "markdown",
   "metadata": {},
   "source": [
    "### Defining a model for Transforming sentence to Vectors"
   ]
  },
  {
   "cell_type": "code",
   "execution_count": 4,
   "metadata": {},
   "outputs": [],
   "source": [
    "from sentence_transformers import SentenceTransformer"
   ]
  },
  {
   "cell_type": "code",
   "execution_count": 5,
   "metadata": {},
   "outputs": [],
   "source": [
    "TRANSFORMER_MODEL_ID = \"flax-sentence-embeddings/all_datasets_v3_mpnet-base\""
   ]
  },
  {
   "cell_type": "code",
   "execution_count": 6,
   "metadata": {},
   "outputs": [],
   "source": [
    "retriever = SentenceTransformer(TRANSFORMER_MODEL_ID)"
   ]
  },
  {
   "cell_type": "markdown",
   "metadata": {},
   "source": [
    "### Initilizing a Pine cone Index for storing the vectors"
   ]
  },
  {
   "cell_type": "code",
   "execution_count": 7,
   "metadata": {},
   "outputs": [],
   "source": [
    "from pinecone import Pinecone, PodSpec\n",
    "from dotenv import load_dotenv"
   ]
  },
  {
   "cell_type": "code",
   "execution_count": 8,
   "metadata": {},
   "outputs": [
    {
     "data": {
      "text/plain": [
       "True"
      ]
     },
     "execution_count": 8,
     "metadata": {},
     "output_type": "execute_result"
    }
   ],
   "source": [
    "load_dotenv(dotenv_path=\"../.env\")"
   ]
  },
  {
   "cell_type": "code",
   "execution_count": 9,
   "metadata": {},
   "outputs": [],
   "source": [
    "pc = Pinecone()"
   ]
  },
  {
   "cell_type": "code",
   "execution_count": 10,
   "metadata": {},
   "outputs": [],
   "source": [
    "pc.create_index(\n",
    "    name=\"ner-embedding\",\n",
    "    metric=\"cosine\",\n",
    "    dimension=768,\n",
    "    spec=PodSpec(\n",
    "        environment='gcp-starter'\n",
    "    )\n",
    ")"
   ]
  },
  {
   "cell_type": "code",
   "execution_count": 11,
   "metadata": {},
   "outputs": [],
   "source": [
    "idx = pc.Index('ner-embedding')"
   ]
  },
  {
   "cell_type": "markdown",
   "metadata": {},
   "source": [
    "### Loading data from Hugging Face Datasets"
   ]
  },
  {
   "cell_type": "code",
   "execution_count": 12,
   "metadata": {},
   "outputs": [],
   "source": [
    "from datasets import load_dataset"
   ]
  },
  {
   "cell_type": "code",
   "execution_count": 13,
   "metadata": {},
   "outputs": [],
   "source": [
    "DATASET_ID = \"fabiochiu/medium-articles\"\n",
    "df = load_dataset(\n",
    "    DATASET_ID,\n",
    "    data_files=\"medium_articles.csv\",\n",
    "    split=\"train\"\n",
    ").to_pandas()\n",
    "\n",
    "df = df.dropna().sample(100, random_state=45)"
   ]
  },
  {
   "cell_type": "code",
   "execution_count": 14,
   "metadata": {},
   "outputs": [],
   "source": [
    "df['text_extended'] = df['title'] + \".\" + df['text'].str[0:1000]"
   ]
  },
  {
   "cell_type": "code",
   "execution_count": 15,
   "metadata": {},
   "outputs": [],
   "source": [
    "def extract_entities(list_of_texts):\n",
    "    entities = []\n",
    "    for text in list_of_texts:\n",
    "        extracted_ners = nlp(text)\n",
    "        entities.append([entity['word'] for entity in extracted_ners])\n",
    "    return entities"
   ]
  },
  {
   "cell_type": "code",
   "execution_count": 16,
   "metadata": {},
   "outputs": [],
   "source": [
    "from tqdm.auto import tqdm"
   ]
  },
  {
   "cell_type": "code",
   "execution_count": 20,
   "metadata": {},
   "outputs": [
    {
     "name": "stderr",
     "output_type": "stream",
     "text": [
      "C:\\Users\\Prithviraj_K_suvarna\\AppData\\Local\\Temp\\ipykernel_22284\\3691258498.py:11: SettingWithCopyWarning: \n",
      "A value is trying to be set on a copy of a slice from a DataFrame.\n",
      "Try using .loc[row_indexer,col_indexer] = value instead\n",
      "\n",
      "See the caveats in the documentation: https://pandas.pydata.org/pandas-docs/stable/user_guide/indexing.html#returning-a-view-versus-a-copy\n",
      "  df_batch['named_entities'] = [list(set(e)) for e in entities]\n",
      "C:\\Users\\Prithviraj_K_suvarna\\AppData\\Local\\Temp\\ipykernel_22284\\3691258498.py:11: SettingWithCopyWarning: \n",
      "A value is trying to be set on a copy of a slice from a DataFrame.\n",
      "Try using .loc[row_indexer,col_indexer] = value instead\n",
      "\n",
      "See the caveats in the documentation: https://pandas.pydata.org/pandas-docs/stable/user_guide/indexing.html#returning-a-view-versus-a-copy\n",
      "  df_batch['named_entities'] = [list(set(e)) for e in entities]\n",
      "C:\\Users\\Prithviraj_K_suvarna\\AppData\\Local\\Temp\\ipykernel_22284\\3691258498.py:11: SettingWithCopyWarning: \n",
      "A value is trying to be set on a copy of a slice from a DataFrame.\n",
      "Try using .loc[row_indexer,col_indexer] = value instead\n",
      "\n",
      "See the caveats in the documentation: https://pandas.pydata.org/pandas-docs/stable/user_guide/indexing.html#returning-a-view-versus-a-copy\n",
      "  df_batch['named_entities'] = [list(set(e)) for e in entities]\n",
      "C:\\Users\\Prithviraj_K_suvarna\\AppData\\Local\\Temp\\ipykernel_22284\\3691258498.py:11: SettingWithCopyWarning: \n",
      "A value is trying to be set on a copy of a slice from a DataFrame.\n",
      "Try using .loc[row_indexer,col_indexer] = value instead\n",
      "\n",
      "See the caveats in the documentation: https://pandas.pydata.org/pandas-docs/stable/user_guide/indexing.html#returning-a-view-versus-a-copy\n",
      "  df_batch['named_entities'] = [list(set(e)) for e in entities]\n",
      "C:\\Users\\Prithviraj_K_suvarna\\AppData\\Local\\Temp\\ipykernel_22284\\3691258498.py:11: SettingWithCopyWarning: \n",
      "A value is trying to be set on a copy of a slice from a DataFrame.\n",
      "Try using .loc[row_indexer,col_indexer] = value instead\n",
      "\n",
      "See the caveats in the documentation: https://pandas.pydata.org/pandas-docs/stable/user_guide/indexing.html#returning-a-view-versus-a-copy\n",
      "  df_batch['named_entities'] = [list(set(e)) for e in entities]\n",
      "C:\\Users\\Prithviraj_K_suvarna\\AppData\\Local\\Temp\\ipykernel_22284\\3691258498.py:11: SettingWithCopyWarning: \n",
      "A value is trying to be set on a copy of a slice from a DataFrame.\n",
      "Try using .loc[row_indexer,col_indexer] = value instead\n",
      "\n",
      "See the caveats in the documentation: https://pandas.pydata.org/pandas-docs/stable/user_guide/indexing.html#returning-a-view-versus-a-copy\n",
      "  df_batch['named_entities'] = [list(set(e)) for e in entities]\n",
      "C:\\Users\\Prithviraj_K_suvarna\\AppData\\Local\\Temp\\ipykernel_22284\\3691258498.py:11: SettingWithCopyWarning: \n",
      "A value is trying to be set on a copy of a slice from a DataFrame.\n",
      "Try using .loc[row_indexer,col_indexer] = value instead\n",
      "\n",
      "See the caveats in the documentation: https://pandas.pydata.org/pandas-docs/stable/user_guide/indexing.html#returning-a-view-versus-a-copy\n",
      "  df_batch['named_entities'] = [list(set(e)) for e in entities]\n",
      "C:\\Users\\Prithviraj_K_suvarna\\AppData\\Local\\Temp\\ipykernel_22284\\3691258498.py:11: SettingWithCopyWarning: \n",
      "A value is trying to be set on a copy of a slice from a DataFrame.\n",
      "Try using .loc[row_indexer,col_indexer] = value instead\n",
      "\n",
      "See the caveats in the documentation: https://pandas.pydata.org/pandas-docs/stable/user_guide/indexing.html#returning-a-view-versus-a-copy\n",
      "  df_batch['named_entities'] = [list(set(e)) for e in entities]\n",
      "C:\\Users\\Prithviraj_K_suvarna\\AppData\\Local\\Temp\\ipykernel_22284\\3691258498.py:11: SettingWithCopyWarning: \n",
      "A value is trying to be set on a copy of a slice from a DataFrame.\n",
      "Try using .loc[row_indexer,col_indexer] = value instead\n",
      "\n",
      "See the caveats in the documentation: https://pandas.pydata.org/pandas-docs/stable/user_guide/indexing.html#returning-a-view-versus-a-copy\n",
      "  df_batch['named_entities'] = [list(set(e)) for e in entities]\n",
      "C:\\Users\\Prithviraj_K_suvarna\\AppData\\Local\\Temp\\ipykernel_22284\\3691258498.py:11: SettingWithCopyWarning: \n",
      "A value is trying to be set on a copy of a slice from a DataFrame.\n",
      "Try using .loc[row_indexer,col_indexer] = value instead\n",
      "\n",
      "See the caveats in the documentation: https://pandas.pydata.org/pandas-docs/stable/user_guide/indexing.html#returning-a-view-versus-a-copy\n",
      "  df_batch['named_entities'] = [list(set(e)) for e in entities]\n"
     ]
    }
   ],
   "source": [
    "BATCH_SIZE = 10\n",
    "for i in range(0, len(df), BATCH_SIZE):\n",
    "    end = min(i + BATCH_SIZE, len(df))\n",
    "    df_batch = df.iloc[i:end]\n",
    "    # embed the text\n",
    "    emb = retriever.encode(\n",
    "        df_batch['text_extended'].tolist()\n",
    "    ).tolist()\n",
    "    # extract entities\n",
    "    entities = extract_entities(df_batch['text_extended'].tolist())\n",
    "    df_batch['named_entities'] = [list(set(e)) for e in entities]\n",
    "    # removing text from df_batch\n",
    "    df_batch = df_batch.drop(columns=['text'])\n",
    "    # create metadata\n",
    "    meta_data = df_batch.to_dict(orient='records')\n",
    "    # creating the index\n",
    "    ids = [str(i) for i in range(i, end)]\n",
    "\n",
    "    vectors = list(zip(ids, emb, meta_data))\n",
    "\n",
    "    idx.upsert(vectors)"
   ]
  },
  {
   "cell_type": "markdown",
   "metadata": {},
   "source": [
    "### Querying data"
   ]
  },
  {
   "cell_type": "code",
   "execution_count": 30,
   "metadata": {},
   "outputs": [
    {
     "data": {
      "text/plain": [
       "[]"
      ]
     },
     "execution_count": 30,
     "metadata": {},
     "output_type": "execute_result"
    }
   ],
   "source": [
    "query = \"ios keyboard not working.\"\n",
    "qx = retriever.encode([query]).tolist()\n",
    "\n",
    "ne = extract_entities([query])[0]"
   ]
  },
  {
   "cell_type": "code",
   "execution_count": 32,
   "metadata": {},
   "outputs": [
    {
     "data": {
      "text/plain": [
       "{'matches': [{'id': '95',\n",
       "              'metadata': {'authors': \"['Federica Benacquista']\",\n",
       "                           'named_entities': ['iPad', 'iOS', 'iPhone'],\n",
       "                           'tags': \"['Swift', 'iPhone', 'iPad', 'iOS', \"\n",
       "                                   \"'Keyboard']\",\n",
       "                           'text_extended': 'List of the official iOS '\n",
       "                                            'keyboards’ heights (and how to '\n",
       "                                            'calculate them).Recently I have '\n",
       "                                            'been working on a custom keyboard '\n",
       "                                            'extension.\\n'\n",
       "                                            '\\n'\n",
       "                                            'I wanted it to be of the same '\n",
       "                                            'size of the original iOS '\n",
       "                                            'keyboard. I noticed that almost '\n",
       "                                            'all of the devices have different '\n",
       "                                            'keyboard heights and I thought '\n",
       "                                            'that affected the way the '\n",
       "                                            'keyboard appeared. But here’s the '\n",
       "                                            'plot twist: the view that '\n",
       "                                            'contains the letters is always of '\n",
       "                                            'the same size!\\n'\n",
       "                                            '\\n'\n",
       "                                            'This means that the height '\n",
       "                                            'difference comes from the bottom '\n",
       "                                            'safe area.\\n'\n",
       "                                            '\\n'\n",
       "                                            'The universal height of the '\n",
       "                                            'letters view on iPhone is of 216 '\n",
       "                                            'points in portrait and 162 points '\n",
       "                                            'in landscape. On iPad it’s 264 '\n",
       "                                            'points in portrait and 352 points '\n",
       "                                            'in landscape (these heights don’t '\n",
       "                                            'include top the number row).\\n'\n",
       "                                            '\\n'\n",
       "                                            'To be honest, I suspect some '\n",
       "                                            'devices vary of +10 points but '\n",
       "                                            'I’m still trying to figure this '\n",
       "                                            'all out!\\n'\n",
       "                                            '\\n'\n",
       "                                            'As regards the full values, since '\n",
       "                                            'I couldn’t find a list of them '\n",
       "                                            'all, I decided to calculate them '\n",
       "                                            'by myself.\\n'\n",
       "                                            '\\n'\n",
       "                                            'For each device I calculated the '\n",
       "                                            'height in portrait and landscape '\n",
       "                                            'mode both with the toolbar on and '\n",
       "                                            'off.\\n'\n",
       "                                            '\\n'\n",
       "                                            'Note that you’ll only be using '\n",
       "                                            'those',\n",
       "                           'timestamp': '2020-12-30 21:54:13.055000+00:00',\n",
       "                           'title': 'List of the official iOS keyboards’ '\n",
       "                                    'heights (and how to calculate them)',\n",
       "                           'url': 'https://medium.com/@federicabenacquista/list-of-the-official-ios-keyboards-heights-and-how-to-calculate-them-c2b844ef54b9'},\n",
       "              'score': 0.479096562,\n",
       "              'values': []}],\n",
       " 'namespace': '',\n",
       " 'usage': {'read_units': 6}}"
      ]
     },
     "execution_count": 32,
     "metadata": {},
     "output_type": "execute_result"
    }
   ],
   "source": [
    "idx.query(\n",
    "    vector=qx,\n",
    "    top_k=5,\n",
    "    include_metadata=True,\n",
    "    filter={\n",
    "        \"named_entities\": {\n",
    "            \"$in\": ne\n",
    "        }\n",
    "    }\n",
    ")"
   ]
  }
 ],
 "metadata": {
  "kernelspec": {
   "display_name": "langchain",
   "language": "python",
   "name": "python3"
  },
  "language_info": {
   "codemirror_mode": {
    "name": "ipython",
    "version": 3
   },
   "file_extension": ".py",
   "mimetype": "text/x-python",
   "name": "python",
   "nbconvert_exporter": "python",
   "pygments_lexer": "ipython3",
   "version": "3.12.1"
  }
 },
 "nbformat": 4,
 "nbformat_minor": 2
}
