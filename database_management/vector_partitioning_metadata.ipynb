{
 "cells": [
  {
   "cell_type": "code",
   "execution_count": 1,
   "metadata": {},
   "outputs": [
    {
     "name": "stderr",
     "output_type": "stream",
     "text": [
      "c:\\Users\\Prithviraj_K_suvarna\\Anaconda3\\envs\\langchain\\Lib\\site-packages\\pinecone\\data\\index.py:1: TqdmWarning: IProgress not found. Please update jupyter and ipywidgets. See https://ipywidgets.readthedocs.io/en/stable/user_install.html\n",
      "  from tqdm.autonotebook import tqdm\n"
     ]
    }
   ],
   "source": [
    "from pinecone import Pinecone\n",
    "from dotenv import load_dotenv"
   ]
  },
  {
   "cell_type": "code",
   "execution_count": 2,
   "metadata": {},
   "outputs": [
    {
     "data": {
      "text/plain": [
       "True"
      ]
     },
     "execution_count": 2,
     "metadata": {},
     "output_type": "execute_result"
    }
   ],
   "source": [
    "load_dotenv('../.env')"
   ]
  },
  {
   "cell_type": "code",
   "execution_count": 3,
   "metadata": {},
   "outputs": [],
   "source": [
    "pc = Pinecone()"
   ]
  },
  {
   "cell_type": "code",
   "execution_count": 4,
   "metadata": {},
   "outputs": [],
   "source": [
    "idx = pc.Index('dbms')"
   ]
  },
  {
   "cell_type": "code",
   "execution_count": 5,
   "metadata": {},
   "outputs": [
    {
     "data": {
      "text/plain": [
       "{'upserted_count': 25}"
      ]
     },
     "execution_count": 5,
     "metadata": {},
     "output_type": "execute_result"
    }
   ],
   "source": [
    "idx.upsert([\n",
    "    ('1', [1.1, 2.2, 3.3], {'topic': 'subject'}),\n",
    "    ('2', [4.4, 5.5, 6.6], {'topic': 'subject'}),\n",
    "    ('3', [7.7, 8.8, 9.9], {'topic': 'subject'}),\n",
    "    ('4', [10.10, 11.11, 12.12], {'topic': 'subject'}),\n",
    "    ('5', [13.13, 14.14, 15.15], {'topic': 'email'}),\n",
    "    ('6', [16.16, 17.17, 18.18], {'topic': 'email'}),\n",
    "    ('7', [19.19, 20.20, 21.21], {'topic': 'email'}),\n",
    "    ('8', [22.22, 23.23, 24.24], {'topic': 'email'}),\n",
    "    ('9', [25.25, 26.26, 27.27], {'topic': 'email'}),\n",
    "    ('10', [28.28, 29.29, 30.30], {'topic': 'email'}),\n",
    "    ('11', [31.31, 32.32, 33.33], {'topic': 'email'}),\n",
    "    ('12', [34.34, 35.35, 36.36], {'topic': 'email'}),\n",
    "    ('13', [37.37, 38.38, 39.39], {'topic': 'email'}),\n",
    "    ('14', [40.40, 41.41, 42.42], {'topic': 'email'}),\n",
    "    ('15', [43.43, 44.44, 45.45], {'topic': 'email'}),\n",
    "    ('16', [46.46, 47.47, 48.48], {'topic': 'email'}),\n",
    "    ('17', [49.49, 50.50, 51.51], {'topic': 'attachment'}),\n",
    "    ('18', [52.52, 53.53, 54.54], {'topic': 'attachment'}),\n",
    "    ('19', [55.55, 56.56, 57.57], {'topic': 'attachment'}),\n",
    "    ('20', [58.58, 59.59, 60.60], {'topic': 'attachment'}),\n",
    "    ('21', [61.61, 62.62, 63.63], {'topic': 'attachment'}),\n",
    "    ('22', [64.64, 65.65, 66.66], {'topic': 'attachment'}),\n",
    "    ('23', [67.67, 68.68, 69.69], {'topic': 'attachment'}),\n",
    "    ('24', [70.70, 71.71, 72.72], {'topic': 'attachment'}),\n",
    "    ('25', [73.73, 74.74, 75.75], {'topic': 'attachment'}),\n",
    "\n",
    "])"
   ]
  },
  {
   "cell_type": "code",
   "execution_count": 9,
   "metadata": {},
   "outputs": [
    {
     "data": {
      "text/plain": [
       "{'matches': [{'id': '1',\n",
       "              'metadata': {'topic': 'subject'},\n",
       "              'score': 1.0011338,\n",
       "              'values': []},\n",
       "             {'id': '2',\n",
       "              'metadata': {'topic': 'subject'},\n",
       "              'score': 0.975829184,\n",
       "              'values': []},\n",
       "             {'id': '3',\n",
       "              'metadata': {'topic': 'subject'},\n",
       "              'score': 0.960166276,\n",
       "              'values': []}],\n",
       " 'namespace': '',\n",
       " 'usage': {'read_units': 6}}"
      ]
     },
     "execution_count": 9,
     "metadata": {},
     "output_type": "execute_result"
    }
   ],
   "source": [
    "idx.query(\n",
    "    vector=[1.1, 2.2, 3.3],\n",
    "    top_k=3,\n",
    "    filters={'topic': { '$eq': 'subject'}},\n",
    "    include_metadata=True\n",
    ")"
   ]
  }
 ],
 "metadata": {
  "kernelspec": {
   "display_name": "langchain",
   "language": "python",
   "name": "python3"
  },
  "language_info": {
   "codemirror_mode": {
    "name": "ipython",
    "version": 3
   },
   "file_extension": ".py",
   "mimetype": "text/x-python",
   "name": "python",
   "nbconvert_exporter": "python",
   "pygments_lexer": "ipython3",
   "version": "3.12.1"
  }
 },
 "nbformat": 4,
 "nbformat_minor": 2
}
