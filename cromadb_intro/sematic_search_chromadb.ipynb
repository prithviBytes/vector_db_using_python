{
 "cells": [
  {
   "cell_type": "code",
   "execution_count": 1,
   "metadata": {},
   "outputs": [],
   "source": [
    "import chromadb\n",
    "import pandas as pd\n",
    "\n",
    "from chromadb.config import Settings"
   ]
  },
  {
   "cell_type": "markdown",
   "metadata": {},
   "source": [
    "Source of data is from [here](https://www.kaggle.com/datasets/nulldata/medium-post-titles)"
   ]
  },
  {
   "cell_type": "code",
   "execution_count": 2,
   "metadata": {},
   "outputs": [],
   "source": [
    "# Load the data\n",
    "df = pd.read_csv('medium_post_titles.csv')\n",
    "\n",
    "# dropping the rows with missing values\n",
    "df = df.dropna()\n",
    "# Dropping Subtitle trucated = true\n",
    "df = df[~df['subtitle_truncated_flag']]\n",
    "\n",
    "# Define the topics of interest\n",
    "topics_of_interest = ['data-science']\n",
    "\n",
    "# Filter the data\n",
    "df = df[df['category'].isin(topics_of_interest)]\n",
    "\n",
    "# combining title and subtitle\n",
    "df['text'] = df['title'] + ' ' + df['subtitle']\n",
    "\n",
    "# creating metadata\n",
    "df['meta'] = df.apply(lambda x: \n",
    "    {\n",
    "        'text': x['text'],\n",
    "        'category': x['category']\n",
    "    },\n",
    "    axis=1\n",
    ")"
   ]
  },
  {
   "cell_type": "code",
   "execution_count": 3,
   "metadata": {},
   "outputs": [],
   "source": [
    "chroma_client = chromadb.Client(\n",
    "    Settings(\n",
    "        persist_directory='medium-chroma-db',\n",
    "        chroma_db_impl='duckdb+parquet',\n",
    "    )\n",
    ")\n",
    "\n",
    "try:\n",
    "    article_collection = chroma_client.create_collection(name='medium_posts')\n",
    "except Exception:\n",
    "    print(\"Collection probably already exists\")\n",
    "    article_collection = chroma_client.get_collection(name='medium_posts')"
   ]
  },
  {
   "cell_type": "code",
   "execution_count": 4,
   "metadata": {},
   "outputs": [],
   "source": [
    "article_collection.upsert(\n",
    "    ids=[str(i) for i in df.index.tolist()],\n",
    "    documents=df['text'].tolist(),\n",
    "    metadatas=df['meta'].tolist()\n",
    ")"
   ]
  },
  {
   "cell_type": "code",
   "execution_count": 5,
   "metadata": {},
   "outputs": [
    {
     "data": {
      "text/plain": [
       "{'ids': [['85765']],\n",
       " 'embeddings': None,\n",
       " 'documents': [['The A-Z of AI and Machine Learning: Comprehensive Glossary Ultimate Terminology You Need to Know']],\n",
       " 'metadatas': [[{'text': 'The A-Z of AI and Machine Learning: Comprehensive Glossary Ultimate Terminology You Need to Know',\n",
       "    'category': 'data-science'}]],\n",
       " 'distances': [[0.9730660319328308]]}"
      ]
     },
     "execution_count": 5,
     "metadata": {},
     "output_type": "execute_result"
    }
   ],
   "source": [
    "query_string = \"best ai library?\"\n",
    "article_collection.query(query_texts=query_string, n_results=1)"
   ]
  }
 ],
 "metadata": {
  "kernelspec": {
   "display_name": "langchain",
   "language": "python",
   "name": "python3"
  },
  "language_info": {
   "codemirror_mode": {
    "name": "ipython",
    "version": 3
   },
   "file_extension": ".py",
   "mimetype": "text/x-python",
   "name": "python",
   "nbconvert_exporter": "python",
   "pygments_lexer": "ipython3",
   "version": "0.0.0"
  }
 },
 "nbformat": 4,
 "nbformat_minor": 2
}
